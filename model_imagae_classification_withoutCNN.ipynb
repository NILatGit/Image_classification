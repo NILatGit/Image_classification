{
  "cells": [
    {
      "cell_type": "markdown",
      "metadata": {
        "id": "4gdSpqmRdLPh"
      },
      "source": [
        "#computer vision with pytorch"
      ]
    },
    {
      "cell_type": "code",
      "execution_count": null,
      "metadata": {
        "id": "ZrMJFAmXbsyH"
      },
      "outputs": [],
      "source": [
        "import torch\n",
        "from torch import nn as nn\n",
        "from matplotlib import pyplot as plt\n",
        "import numpy as np\n",
        "import torchvision as tv\n",
        "from torchvision import datasets\n",
        "from torchvision.transforms import ToTensor as TT"
      ]
    },
    {
      "cell_type": "markdown",
      "metadata": {
        "id": "40HYj8eQWhoH"
      },
      "source": [
        "#Getting Datasets"
      ]
    },
    {
      "cell_type": "code",
      "execution_count": null,
      "metadata": {
        "colab": {
          "base_uri": "https://localhost:8080/",
          "height": 36
        },
        "id": "68xDKmBRvq0Y",
        "outputId": "cdc5fb58-691d-4da6-cb5b-4d1dbc47ca49"
      },
      "outputs": [
        {
          "data": {
            "application/vnd.google.colaboratory.intrinsic+json": {
              "type": "string"
            },
            "text/plain": [
              "'cpu'"
            ]
          },
          "execution_count": 2,
          "metadata": {},
          "output_type": "execute_result"
        }
      ],
      "source": [
        "device = \"cuda\" if torch.cuda.is_available() else \"cpu\"\n",
        "device"
      ]
    },
    {
      "cell_type": "code",
      "execution_count": null,
      "metadata": {
        "colab": {
          "base_uri": "https://localhost:8080/"
        },
        "id": "Buq5D2LBWk5C",
        "outputId": "a9c982ff-db59-4a19-8111-9fa0cb3bd9a0"
      },
      "outputs": [
        {
          "name": "stdout",
          "output_type": "stream",
          "text": [
            "Downloading http://fashion-mnist.s3-website.eu-central-1.amazonaws.com/train-images-idx3-ubyte.gz\n",
            "Downloading http://fashion-mnist.s3-website.eu-central-1.amazonaws.com/train-images-idx3-ubyte.gz to data/FashionMNIST/raw/train-images-idx3-ubyte.gz\n"
          ]
        },
        {
          "name": "stderr",
          "output_type": "stream",
          "text": [
            "100%|██████████| 26421880/26421880 [00:00<00:00, 45754809.41it/s]\n"
          ]
        },
        {
          "name": "stdout",
          "output_type": "stream",
          "text": [
            "Extracting data/FashionMNIST/raw/train-images-idx3-ubyte.gz to data/FashionMNIST/raw\n",
            "\n",
            "Downloading http://fashion-mnist.s3-website.eu-central-1.amazonaws.com/train-labels-idx1-ubyte.gz\n",
            "Downloading http://fashion-mnist.s3-website.eu-central-1.amazonaws.com/train-labels-idx1-ubyte.gz to data/FashionMNIST/raw/train-labels-idx1-ubyte.gz\n"
          ]
        },
        {
          "name": "stderr",
          "output_type": "stream",
          "text": [
            "100%|██████████| 29515/29515 [00:00<00:00, 5629087.06it/s]"
          ]
        },
        {
          "name": "stdout",
          "output_type": "stream",
          "text": [
            "Extracting data/FashionMNIST/raw/train-labels-idx1-ubyte.gz to data/FashionMNIST/raw\n",
            "\n",
            "Downloading http://fashion-mnist.s3-website.eu-central-1.amazonaws.com/t10k-images-idx3-ubyte.gz\n",
            "Downloading http://fashion-mnist.s3-website.eu-central-1.amazonaws.com/t10k-images-idx3-ubyte.gz to data/FashionMNIST/raw/t10k-images-idx3-ubyte.gz\n"
          ]
        },
        {
          "name": "stderr",
          "output_type": "stream",
          "text": [
            "\n",
            "100%|██████████| 4422102/4422102 [00:00<00:00, 21704188.81it/s]\n"
          ]
        },
        {
          "name": "stdout",
          "output_type": "stream",
          "text": [
            "Extracting data/FashionMNIST/raw/t10k-images-idx3-ubyte.gz to data/FashionMNIST/raw\n",
            "\n",
            "Downloading http://fashion-mnist.s3-website.eu-central-1.amazonaws.com/t10k-labels-idx1-ubyte.gz\n",
            "Downloading http://fashion-mnist.s3-website.eu-central-1.amazonaws.com/t10k-labels-idx1-ubyte.gz to data/FashionMNIST/raw/t10k-labels-idx1-ubyte.gz\n"
          ]
        },
        {
          "name": "stderr",
          "output_type": "stream",
          "text": [
            "100%|██████████| 5148/5148 [00:00<00:00, 11989048.86it/s]\n"
          ]
        },
        {
          "name": "stdout",
          "output_type": "stream",
          "text": [
            "Extracting data/FashionMNIST/raw/t10k-labels-idx1-ubyte.gz to data/FashionMNIST/raw\n",
            "\n"
          ]
        }
      ],
      "source": [
        "# Setup training data\n",
        "from torchvision import datasets\n",
        "train_data = datasets.FashionMNIST(\n",
        "    root=\"data\", # where to download data to?\n",
        "    train=True, # do we want the training dataset?\n",
        "    download=True, # do we want to download yes/no?\n",
        "    transform=TT(), # how do we want to transform the data?\n",
        "    target_transform=None # how do we want to transform the labels/targets?\n",
        ")"
      ]
    },
    {
      "cell_type": "code",
      "execution_count": null,
      "metadata": {
        "id": "wOQIS6spYvlf"
      },
      "outputs": [],
      "source": [
        "test_data = datasets.FashionMNIST(\n",
        "    root=\"data\",\n",
        "    train=False,\n",
        "    download=True,\n",
        "    transform=TT(),\n",
        "    target_transform=None\n",
        ")"
      ]
    },
    {
      "cell_type": "code",
      "execution_count": null,
      "metadata": {
        "colab": {
          "base_uri": "https://localhost:8080/"
        },
        "id": "t9csavIEZKYl",
        "outputId": "30cba69a-520b-46d7-fd3b-7bf394dab892"
      },
      "outputs": [
        {
          "data": {
            "text/plain": [
              "(60000, 10000)"
            ]
          },
          "execution_count": 5,
          "metadata": {},
          "output_type": "execute_result"
        }
      ],
      "source": [
        "len(train_data), len(test_data)"
      ]
    },
    {
      "cell_type": "code",
      "execution_count": null,
      "metadata": {
        "colab": {
          "base_uri": "https://localhost:8080/"
        },
        "id": "R0ku4nIctLBS",
        "outputId": "dd0d3d75-6e99-4867-e594-d957507b16b0"
      },
      "outputs": [
        {
          "name": "stdout",
          "output_type": "stream",
          "text": [
            "<class 'torch.Tensor'> <class 'int'>\n"
          ]
        }
      ],
      "source": [
        "image , label = train_data[0]\n",
        "print(type(image),type(label))"
      ]
    },
    {
      "cell_type": "markdown",
      "metadata": {
        "id": "oUzVOlZHNOav"
      },
      "source": [
        "It is more computationally efficient, as in, your computing hardware may not be able to look (store in memory) at 60000 images in one hit. So we break it down to 32 images at a time (batch size of 32).\n",
        "It gives our neural network more chances to update its gradients per epoch.\n",
        "and at a time you cant load that many images in ram"
      ]
    },
    {
      "cell_type": "code",
      "execution_count": null,
      "metadata": {
        "id": "ygri7vhPNNzd"
      },
      "outputs": [],
      "source": [
        "from torch.utils.data import DataLoader\n",
        "train_dataloader = DataLoader(train_data, batch_size=32, shuffle=True)\n",
        "test_dataloader = DataLoader(test_data, batch_size=32, shuffle=False)"
      ]
    },
    {
      "cell_type": "markdown",
      "metadata": {
        "id": "ZfOi98iOdFBd"
      },
      "source": [
        "returns an iterable of pytorch to acccess the data\n"
      ]
    },
    {
      "cell_type": "code",
      "execution_count": null,
      "metadata": {
        "colab": {
          "base_uri": "https://localhost:8080/"
        },
        "id": "Qz0vTTy9b8p1",
        "outputId": "d3c24b04-87d6-42ec-d763-29c7a78b1414"
      },
      "outputs": [
        {
          "name": "stdout",
          "output_type": "stream",
          "text": [
            "1875\n",
            "313\n"
          ]
        }
      ],
      "source": [
        "print(len(train_dataloader))\n",
        "print(len(test_dataloader))"
      ]
    },
    {
      "cell_type": "code",
      "execution_count": null,
      "metadata": {
        "id": "Ihwhz-9vOYxo"
      },
      "outputs": [],
      "source": [
        "# train_dataloader[0] cant be used, it's an iterable to be used in loops\n",
        "#like a generator\n",
        "#can't access each element at once"
      ]
    },
    {
      "cell_type": "code",
      "execution_count": null,
      "metadata": {
        "colab": {
          "base_uri": "https://localhost:8080/"
        },
        "id": "1WaO4vvtat7r",
        "outputId": "048ec2b4-3906-4285-ef26-d546b1566444"
      },
      "outputs": [
        {
          "name": "stdout",
          "output_type": "stream",
          "text": [
            "Feature batch shape: torch.Size([32, 1, 28, 28])\n",
            "Labels batch shape: torch.Size([32])\n"
          ]
        },
        {
          "data": {
            "text/plain": [
              "(torch.Size([32, 1, 28, 28]), torch.Size([32]))"
            ]
          },
          "execution_count": 10,
          "metadata": {},
          "output_type": "execute_result"
        }
      ],
      "source": [
        "# Check out what's inside the training dataloader\n",
        "train_features_batch, train_labels_batch = next(iter(train_dataloader))#the batch contains 32 samples\n",
        "print(f\"Feature batch shape: {train_features_batch.size()}\")\n",
        "print(f\"Labels batch shape: {train_labels_batch.size()}\")\n",
        "train_features_batch.shape, train_labels_batch.shape"
      ]
    },
    {
      "cell_type": "markdown",
      "metadata": {
        "id": "Uv9HPsSAa7O_"
      },
      "source": [
        "32 batch size,1 colour chanel and height and width of 28 pixel\n"
      ]
    },
    {
      "cell_type": "code",
      "execution_count": null,
      "metadata": {
        "colab": {
          "base_uri": "https://localhost:8080/"
        },
        "id": "PFsXX-AgbNAZ",
        "outputId": "6c5e4eab-0ff5-4ba3-e20c-1f54234a5c51"
      },
      "outputs": [
        {
          "data": {
            "text/plain": [
              "({'T-shirt/top': 0,\n",
              "  'Trouser': 1,\n",
              "  'Pullover': 2,\n",
              "  'Dress': 3,\n",
              "  'Coat': 4,\n",
              "  'Sandal': 5,\n",
              "  'Shirt': 6,\n",
              "  'Sneaker': 7,\n",
              "  'Bag': 8,\n",
              "  'Ankle boot': 9},\n",
              " ['T-shirt/top',\n",
              "  'Trouser',\n",
              "  'Pullover',\n",
              "  'Dress',\n",
              "  'Coat',\n",
              "  'Sandal',\n",
              "  'Shirt',\n",
              "  'Sneaker',\n",
              "  'Bag',\n",
              "  'Ankle boot'])"
            ]
          },
          "execution_count": 11,
          "metadata": {},
          "output_type": "execute_result"
        }
      ],
      "source": [
        "class_to_idx = train_data.class_to_idx\n",
        "class_names = train_data.classes\n",
        "class_to_idx, class_names"
      ]
    },
    {
      "cell_type": "code",
      "execution_count": null,
      "metadata": {
        "colab": {
          "base_uri": "https://localhost:8080/",
          "height": 463
        },
        "id": "H5YSDPhnaus0",
        "outputId": "17241687-eeed-4a30-d0f7-1bea2b4b33ec"
      },
      "outputs": [
        {
          "name": "stdout",
          "output_type": "stream",
          "text": [
            "Image size: torch.Size([1, 28, 28])\n",
            "Label: 8, label size: torch.Size([])\n"
          ]
        },
        {
          "data": {
            "image/png": "[encoded data removed]",
            "text/plain": [
              "<Figure size 640x480 with 1 Axes>"
            ]
          },
          "metadata": {},
          "output_type": "display_data"
        }
      ],
      "source": [
        "# Show a sample\n",
        "# torch.manual_seed(42)\n",
        "random_idx = torch.randint(0, len(train_features_batch), size=[1]).item()\n",
        "img, label = train_features_batch[random_idx], train_labels_batch[random_idx]\n",
        "plt.imshow(img.squeeze(), cmap=\"gray\")\n",
        "plt.title(class_names[label])\n",
        "plt.axis(False)\n",
        "print(f\"Image size: {img.shape}\")\n",
        "print(f\"Label: {label}, label size: {label.shape}\")"
      ]
    },
    {
      "cell_type": "markdown",
      "metadata": {
        "id": "FkgZgrQveOv3"
      },
      "source": [
        "flatten layer\n",
        "nn.flatten\n",
        "\n",
        "start_dim=1: The flattening operation starts from the second dimension (index 1).\n",
        "end_dim=-1: The flattening operation continues up to and including the last dimension.by defaul flattens all dimensions except the batch dimension (dimension 0)."
      ]
    },
    {
      "cell_type": "code",
      "execution_count": null,
      "metadata": {
        "colab": {
          "base_uri": "https://localhost:8080/"
        },
        "id": "SXakyny9eUU8",
        "outputId": "c404a0f1-b7dd-4004-d91e-d518216ae6b0"
      },
      "outputs": [
        {
          "name": "stdout",
          "output_type": "stream",
          "text": [
            "before flattening:torch.Size([1, 28, 28])\n",
            "after flattening:torch.Size([1, 784])\n"
          ]
        }
      ],
      "source": [
        "x=train_features_batch[0]\n",
        "print(f\"before flattening:{x.shape}\")\n",
        "output=nn.Flatten()(x)\n",
        "print(f\"after flattening:{output.shape}\")"
      ]
    },
    {
      "cell_type": "code",
      "execution_count": null,
      "metadata": {
        "colab": {
          "base_uri": "https://localhost:8080/"
        },
        "id": "4zI8uzCsg7s7",
        "outputId": "d931facc-5773-4ca8-8871-134d9beda4a6"
      },
      "outputs": [
        {
          "name": "stdout",
          "output_type": "stream",
          "text": [
            "torch.Size([1, 10])\n",
            "torch.Size([32, 1, 28, 28])\n"
          ]
        }
      ],
      "source": [
        "hidden_units=8\n",
        "class image_classifier(nn.Module):\n",
        "    def __init__(self,input_shape:int,hidden_unit:int,output_shape:int):\n",
        "        super().__init__()\n",
        "        self.layer_stack=nn.Sequential(\n",
        "            nn.Flatten(),\n",
        "            nn.Linear(in_features=input_shape,out_features=hidden_units),\n",
        "            nn.Linear(in_features=hidden_units,out_features=output_shape),\n",
        "            nn.ReLU()\n",
        "        )\n",
        "\n",
        "    def forward(self,x):\n",
        "        return self.layer_stack(x)\n",
        "\n",
        "modelV6=image_classifier(\n",
        "    input_shape=28*28,\n",
        "    hidden_unit=10,\n",
        "    output_shape=len(class_names))\n",
        "\n",
        "with torch.inference_mode():\n",
        "    print(modelV6(x).shape)\n",
        "\n",
        "print(train_features_batch.shape)"
      ]
    },
    {
      "cell_type": "code",
      "execution_count": null,
      "metadata": {
        "id": "Cl8YfICArRlU"
      },
      "outputs": [],
      "source": [
        "loss_fn=nn.CrossEntropyLoss()\n",
        "optimizer=torch.optim.SGD(params=modelV6.parameters(),lr=0.01)"
      ]
    },
    {
      "cell_type": "code",
      "execution_count": null,
      "metadata": {
        "id": "pHuvQk5Kxq1B"
      },
      "outputs": [],
      "source": [
        "import time"
      ]
    },
    {
      "cell_type": "markdown",
      "metadata": {
        "id": "nEZCrcGWcIVB"
      },
      "source": [
        "creating training loop"
      ]
    },
    {
      "cell_type": "code",
      "execution_count": null,
      "metadata": {
        "colab": {
          "base_uri": "https://localhost:8080/",
          "height": 413,
          "referenced_widgets": [
            "f16d93d4caaf4210a90aba8285a5c0a6",
            "5cfdc76281534df3b4b8955bd79edaf0",
            "d42d55345bec443bac57a451d375e916",
            "043a7e1038e640b6bf4d88db34d2b25d",
            "9af8bc56bcd54ddf83cf3e3061f72dd4",
            "53eca08524a4457886d32ed167732132",
            "32011bc5dd2a41ba98881700d1b91265",
            "05c75778724743eab7b90b14db76813d",
            "6e363d6eeed34f7aac98f8d57e03789a",
            "60d4882cd6644d4392b126f39078dbf0",
            "3fd554e0cfcd47fd90b8c5020cbe5c2e"
          ]
        },
        "id": "LVqtkC4mrW4M",
        "outputId": "77d43444-43a0-403d-a2aa-c60b262d80b2"
      },
      "outputs": [
        {
          "data": {
            "application/vnd.jupyter.widget-view+json": {
              "model_id": "f16d93d4caaf4210a90aba8285a5c0a6",
              "version_major": 2,
              "version_minor": 0
            },
            "text/plain": [
              "  0%|          | 0/20 [00:00<?, ?it/s]"
            ]
          },
          "metadata": {},
          "output_type": "display_data"
        },
        {
          "name": "stdout",
          "output_type": "stream",
          "text": [
            "batch time:0.0012259483337402344\n",
            "epoch:0|avg_train_loss:1.1278403997421265|train_acc:61.53499984741211%|\n",
            "test_loss:0.6718493103981018|test_acc:75.61901092529297%\n",
            "\n",
            "batch time:0.0011756420135498047\n",
            "epoch:4|avg_train_loss:0.4698670208454132|train_acc:83.65833282470703%|\n",
            "test_loss:0.4917505979537964|test_acc:82.73761749267578%\n",
            "\n",
            "batch time:0.0012865066528320312\n",
            "epoch:8|avg_train_loss:0.4347323477268219|train_acc:84.92666625976562%|\n",
            "test_loss:0.46831485629081726|test_acc:83.55631256103516%\n",
            "\n",
            "batch time:0.0012857913970947266\n",
            "epoch:12|avg_train_loss:0.418605238199234|train_acc:85.50499725341797%|\n",
            "test_loss:0.458188533782959|test_acc:83.92572021484375%\n",
            "\n",
            "batch time:0.0016851425170898438\n",
            "epoch:16|avg_train_loss:0.40917304158210754|train_acc:85.74166870117188%|\n",
            "test_loss:0.45592933893203735|test_acc:83.96565246582031%\n",
            "\n",
            "time taken:273.9321563243866\n"
          ]
        }
      ],
      "source": [
        "from tqdm.auto import tqdm\n",
        "start_time=time.time()\n",
        "epochs=20\n",
        "for epoch in tqdm(range(epochs)):\n",
        "    loss=0\n",
        "    accuracy=0\n",
        "    for train_features_batch, train_labels_batch in train_dataloader:\n",
        "        batch_time_start=time.time()\n",
        "\n",
        "        modelV6.train()\n",
        "\n",
        "        y_logits=modelV6(train_features_batch)\n",
        "\n",
        "        train_loss=loss_fn(y_logits,train_labels_batch)\n",
        "\n",
        "        loss+=train_loss\n",
        "\n",
        "        optimizer.zero_grad()\n",
        "\n",
        "        train_loss.backward()\n",
        "\n",
        "        optimizer.step()\n",
        "\n",
        "        y_pred=torch.softmax(y_logits,dim=1)\n",
        "\n",
        "        y_label_pred=torch.argmax(y_pred,dim=1)\n",
        "\n",
        "        accuracy+=torch.sum(y_label_pred==train_labels_batch)/len(train_labels_batch)*100\n",
        "\n",
        "        batch_time_end=time.time()\n",
        "\n",
        "    avg_loss=loss/len(train_dataloader)\n",
        "\n",
        "    avg_acc=(accuracy/len(train_dataloader))\n",
        "\n",
        "    modelV6.eval()\n",
        "    with torch.inference_mode():\n",
        "        test_loss=0\n",
        "        test_accuracy=0\n",
        "        for test_features_batch, test_labels_batch in test_dataloader:\n",
        "\n",
        "            test_logits=modelV6(test_features_batch)\n",
        "\n",
        "            test_loss+=loss_fn(test_logits,test_labels_batch)\n",
        "\n",
        "            test_pred=torch.softmax(test_logits,dim=1)\n",
        "\n",
        "            test_label_pred=torch.argmax(test_pred,dim=1)\n",
        "\n",
        "            test_accuracy+=torch.sum(test_label_pred==test_labels_batch)/len(test_labels_batch)*100\n",
        "\n",
        "        avg_test_loss=test_loss/len(test_dataloader)\n",
        "        avg_test_acc=test_accuracy/len(test_dataloader)\n",
        "\n",
        "\n",
        "    if epoch%4==0:\n",
        "        print(f\"batch time:{batch_time_end-batch_time_start}\")\n",
        "        print(f\"epoch:{epoch}|avg_train_loss:{avg_loss}|train_acc:{avg_acc}%|\")\n",
        "        print(f\"test_loss:{avg_test_loss}|test_acc:{avg_test_acc}%\")\n",
        "        print()\n",
        "\n",
        "end_time=time.time()\n",
        "\n",
        "print(f\"time taken:{end_time-start_time}\")"
      ]
    }
  ],
  "metadata": {
    "colab": {
      "provenance": []
    },
    "kernelspec": {
      "display_name": "Python 3",
      "name": "python3"
    },
    "language_info": {
      "name": "python"
    },
    "widgets": {
      "application/vnd.jupyter.widget-state+json": {
        "043a7e1038e640b6bf4d88db34d2b25d": {
          "model_module": "@jupyter-widgets/controls",
          "model_module_version": "1.5.0",
          "model_name": "HTMLModel",
          "state": {
            "_dom_classes": [],
            "_model_module": "@jupyter-widgets/controls",
            "_model_module_version": "1.5.0",
            "_model_name": "HTMLModel",
            "_view_count": null,
            "_view_module": "@jupyter-widgets/controls",
            "_view_module_version": "1.5.0",
            "_view_name": "HTMLView",
            "description": "",
            "description_tooltip": null,
            "layout": "IPY_MODEL_60d4882cd6644d4392b126f39078dbf0",
            "placeholder": "​",
            "style": "IPY_MODEL_3fd554e0cfcd47fd90b8c5020cbe5c2e",
            "value": " 20/20 [04:33&lt;00:00, 13.48s/it]"
          }
        },
        "05c75778724743eab7b90b14db76813d": {
          "model_module": "@jupyter-widgets/base",
          "model_module_version": "1.2.0",
          "model_name": "LayoutModel",
          "state": {
            "_model_module": "@jupyter-widgets/base",
            "_model_module_version": "1.2.0",
            "_model_name": "LayoutModel",
            "_view_count": null,
            "_view_module": "@jupyter-widgets/base",
            "_view_module_version": "1.2.0",
            "_view_name": "LayoutView",
            "align_content": null,
            "align_items": null,
            "align_self": null,
            "border": null,
            "bottom": null,
            "display": null,
            "flex": null,
            "flex_flow": null,
            "grid_area": null,
            "grid_auto_columns": null,
            "grid_auto_flow": null,
            "grid_auto_rows": null,
            "grid_column": null,
            "grid_gap": null,
            "grid_row": null,
            "grid_template_areas": null,
            "grid_template_columns": null,
            "grid_template_rows": null,
            "height": null,
            "justify_content": null,
            "justify_items": null,
            "left": null,
            "margin": null,
            "max_height": null,
            "max_width": null,
            "min_height": null,
            "min_width": null,
            "object_fit": null,
            "object_position": null,
            "order": null,
            "overflow": null,
            "overflow_x": null,
            "overflow_y": null,
            "padding": null,
            "right": null,
            "top": null,
            "visibility": null,
            "width": null
          }
        },
        "32011bc5dd2a41ba98881700d1b91265": {
          "model_module": "@jupyter-widgets/controls",
          "model_module_version": "1.5.0",
          "model_name": "DescriptionStyleModel",
          "state": {
            "_model_module": "@jupyter-widgets/controls",
            "_model_module_version": "1.5.0",
            "_model_name": "DescriptionStyleModel",
            "_view_count": null,
            "_view_module": "@jupyter-widgets/base",
            "_view_module_version": "1.2.0",
            "_view_name": "StyleView",
            "description_width": ""
          }
        },
        "3fd554e0cfcd47fd90b8c5020cbe5c2e": {
          "model_module": "@jupyter-widgets/controls",
          "model_module_version": "1.5.0",
          "model_name": "DescriptionStyleModel",
          "state": {
            "_model_module": "@jupyter-widgets/controls",
            "_model_module_version": "1.5.0",
            "_model_name": "DescriptionStyleModel",
            "_view_count": null,
            "_view_module": "@jupyter-widgets/base",
            "_view_module_version": "1.2.0",
            "_view_name": "StyleView",
            "description_width": ""
          }
        },
        "53eca08524a4457886d32ed167732132": {
          "model_module": "@jupyter-widgets/base",
          "model_module_version": "1.2.0",
          "model_name": "LayoutModel",
          "state": {
            "_model_module": "@jupyter-widgets/base",
            "_model_module_version": "1.2.0",
            "_model_name": "LayoutModel",
            "_view_count": null,
            "_view_module": "@jupyter-widgets/base",
            "_view_module_version": "1.2.0",
            "_view_name": "LayoutView",
            "align_content": null,
            "align_items": null,
            "align_self": null,
            "border": null,
            "bottom": null,
            "display": null,
            "flex": null,
            "flex_flow": null,
            "grid_area": null,
            "grid_auto_columns": null,
            "grid_auto_flow": null,
            "grid_auto_rows": null,
            "grid_column": null,
            "grid_gap": null,
            "grid_row": null,
            "grid_template_areas": null,
            "grid_template_columns": null,
            "grid_template_rows": null,
            "height": null,
            "justify_content": null,
            "justify_items": null,
            "left": null,
            "margin": null,
            "max_height": null,
            "max_width": null,
            "min_height": null,
            "min_width": null,
            "object_fit": null,
            "object_position": null,
            "order": null,
            "overflow": null,
            "overflow_x": null,
            "overflow_y": null,
            "padding": null,
            "right": null,
            "top": null,
            "visibility": null,
            "width": null
          }
        },
        "5cfdc76281534df3b4b8955bd79edaf0": {
          "model_module": "@jupyter-widgets/controls",
          "model_module_version": "1.5.0",
          "model_name": "HTMLModel",
          "state": {
            "_dom_classes": [],
            "_model_module": "@jupyter-widgets/controls",
            "_model_module_version": "1.5.0",
            "_model_name": "HTMLModel",
            "_view_count": null,
            "_view_module": "@jupyter-widgets/controls",
            "_view_module_version": "1.5.0",
            "_view_name": "HTMLView",
            "description": "",
            "description_tooltip": null,
            "layout": "IPY_MODEL_53eca08524a4457886d32ed167732132",
            "placeholder": "​",
            "style": "IPY_MODEL_32011bc5dd2a41ba98881700d1b91265",
            "value": "100%"
          }
        },
        "60d4882cd6644d4392b126f39078dbf0": {
          "model_module": "@jupyter-widgets/base",
          "model_module_version": "1.2.0",
          "model_name": "LayoutModel",
          "state": {
            "_model_module": "@jupyter-widgets/base",
            "_model_module_version": "1.2.0",
            "_model_name": "LayoutModel",
            "_view_count": null,
            "_view_module": "@jupyter-widgets/base",
            "_view_module_version": "1.2.0",
            "_view_name": "LayoutView",
            "align_content": null,
            "align_items": null,
            "align_self": null,
            "border": null,
            "bottom": null,
            "display": null,
            "flex": null,
            "flex_flow": null,
            "grid_area": null,
            "grid_auto_columns": null,
            "grid_auto_flow": null,
            "grid_auto_rows": null,
            "grid_column": null,
            "grid_gap": null,
            "grid_row": null,
            "grid_template_areas": null,
            "grid_template_columns": null,
            "grid_template_rows": null,
            "height": null,
            "justify_content": null,
            "justify_items": null,
            "left": null,
            "margin": null,
            "max_height": null,
            "max_width": null,
            "min_height": null,
            "min_width": null,
            "object_fit": null,
            "object_position": null,
            "order": null,
            "overflow": null,
            "overflow_x": null,
            "overflow_y": null,
            "padding": null,
            "right": null,
            "top": null,
            "visibility": null,
            "width": null
          }
        },
        "6e363d6eeed34f7aac98f8d57e03789a": {
          "model_module": "@jupyter-widgets/controls",
          "model_module_version": "1.5.0",
          "model_name": "ProgressStyleModel",
          "state": {
            "_model_module": "@jupyter-widgets/controls",
            "_model_module_version": "1.5.0",
            "_model_name": "ProgressStyleModel",
            "_view_count": null,
            "_view_module": "@jupyter-widgets/base",
            "_view_module_version": "1.2.0",
            "_view_name": "StyleView",
            "bar_color": null,
            "description_width": ""
          }
        },
        "9af8bc56bcd54ddf83cf3e3061f72dd4": {
          "model_module": "@jupyter-widgets/base",
          "model_module_version": "1.2.0",
          "model_name": "LayoutModel",
          "state": {
            "_model_module": "@jupyter-widgets/base",
            "_model_module_version": "1.2.0",
            "_model_name": "LayoutModel",
            "_view_count": null,
            "_view_module": "@jupyter-widgets/base",
            "_view_module_version": "1.2.0",
            "_view_name": "LayoutView",
            "align_content": null,
            "align_items": null,
            "align_self": null,
            "border": null,
            "bottom": null,
            "display": null,
            "flex": null,
            "flex_flow": null,
            "grid_area": null,
            "grid_auto_columns": null,
            "grid_auto_flow": null,
            "grid_auto_rows": null,
            "grid_column": null,
            "grid_gap": null,
            "grid_row": null,
            "grid_template_areas": null,
            "grid_template_columns": null,
            "grid_template_rows": null,
            "height": null,
            "justify_content": null,
            "justify_items": null,
            "left": null,
            "margin": null,
            "max_height": null,
            "max_width": null,
            "min_height": null,
            "min_width": null,
            "object_fit": null,
            "object_position": null,
            "order": null,
            "overflow": null,
            "overflow_x": null,
            "overflow_y": null,
            "padding": null,
            "right": null,
            "top": null,
            "visibility": null,
            "width": null
          }
        },
        "d42d55345bec443bac57a451d375e916": {
          "model_module": "@jupyter-widgets/controls",
          "model_module_version": "1.5.0",
          "model_name": "FloatProgressModel",
          "state": {
            "_dom_classes": [],
            "_model_module": "@jupyter-widgets/controls",
            "_model_module_version": "1.5.0",
            "_model_name": "FloatProgressModel",
            "_view_count": null,
            "_view_module": "@jupyter-widgets/controls",
            "_view_module_version": "1.5.0",
            "_view_name": "ProgressView",
            "bar_style": "success",
            "description": "",
            "description_tooltip": null,
            "layout": "IPY_MODEL_05c75778724743eab7b90b14db76813d",
            "max": 20,
            "min": 0,
            "orientation": "horizontal",
            "style": "IPY_MODEL_6e363d6eeed34f7aac98f8d57e03789a",
            "value": 20
          }
        },
        "f16d93d4caaf4210a90aba8285a5c0a6": {
          "model_module": "@jupyter-widgets/controls",
          "model_module_version": "1.5.0",
          "model_name": "HBoxModel",
          "state": {
            "_dom_classes": [],
            "_model_module": "@jupyter-widgets/controls",
            "_model_module_version": "1.5.0",
            "_model_name": "HBoxModel",
            "_view_count": null,
            "_view_module": "@jupyter-widgets/controls",
            "_view_module_version": "1.5.0",
            "_view_name": "HBoxView",
            "box_style": "",
            "children": [
              "IPY_MODEL_5cfdc76281534df3b4b8955bd79edaf0",
              "IPY_MODEL_d42d55345bec443bac57a451d375e916",
              "IPY_MODEL_043a7e1038e640b6bf4d88db34d2b25d"
            ],
            "layout": "IPY_MODEL_9af8bc56bcd54ddf83cf3e3061f72dd4"
          }
        }
      }
    }
  },
  "nbformat": 4,
  "nbformat_minor": 0
}
